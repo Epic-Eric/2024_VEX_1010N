{
 "cells": [
  {
   "cell_type": "markdown",
   "metadata": {},
   "source": [
    "July 31st:\n",
    "Objective: \n",
    "- Test drivetrain arcade code\n",
    "Problem:\n",
    "- Left and right joystick were reversed\n",
    "Solution:\n",
    "- I didn't realize that right side drivetrain was revesed, when I did, everything was fixed\n",
    "\n",
    "Aug 1st:\n",
    "Observation:\n",
    "- The robot successfully drove over the middle barrier without much difficulty"
   ]
  }
 ],
 "metadata": {
  "kernelspec": {
   "display_name": "Python 3.9.6 64-bit",
   "language": "python",
   "name": "python3"
  },
  "language_info": {
   "name": "python",
   "version": "3.9.6"
  },
  "orig_nbformat": 4,
  "vscode": {
   "interpreter": {
    "hash": "31f2aee4e71d21fbe5cf8b01ff0e069b9275f58929596ceb00d14d90e3e16cd6"
   }
  }
 },
 "nbformat": 4,
 "nbformat_minor": 2
}
